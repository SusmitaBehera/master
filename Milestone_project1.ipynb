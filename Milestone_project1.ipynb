{
 "cells": [
  {
   "cell_type": "code",
   "execution_count": 1,
   "id": "8c143791",
   "metadata": {},
   "outputs": [],
   "source": [
    "#a=map(int,input().split())\n"
   ]
  },
  {
   "cell_type": "code",
   "execution_count": 2,
   "id": "6d7ab66b",
   "metadata": {},
   "outputs": [],
   "source": [
    "#print(tuple(a))"
   ]
  },
  {
   "cell_type": "code",
   "execution_count": 3,
   "id": "1aa37d7d",
   "metadata": {},
   "outputs": [],
   "source": [
    "#'Susmita Behera'.split()"
   ]
  },
  {
   "cell_type": "code",
   "execution_count": 4,
   "id": "ac9ff24b",
   "metadata": {},
   "outputs": [],
   "source": [
    "#a=map(int,input().split(','))"
   ]
  },
  {
   "cell_type": "code",
   "execution_count": 5,
   "id": "32b3fc72",
   "metadata": {},
   "outputs": [],
   "source": [
    "#if __name__ == '__main__':\n",
    "    #n = int(input())\n",
    "    #arr = map(int, input().split())\n",
    "    #arr1=list(arr)\n",
    "    #sortedlist=sorted(arr1)\n",
    "    #print(sortedlist)\n",
    "    #[res.append(x) for x in sortedlist if x not in res]\n",
    "    #print(res[-2])"
   ]
  },
  {
   "cell_type": "code",
   "execution_count": 6,
   "id": "a5bfa969",
   "metadata": {},
   "outputs": [],
   "source": [
    "#x=50\n",
    "#def funct(x):\n",
    "    #print(f'X is {x}')\n",
    "    #x='New value'\n",
    "    #print(f'I just locally changed global X to {x}')\n",
    "    #return x"
   ]
  },
  {
   "cell_type": "code",
   "execution_count": 7,
   "id": "0090f663",
   "metadata": {},
   "outputs": [],
   "source": [
    "#x=funct(x)"
   ]
  },
  {
   "cell_type": "code",
   "execution_count": 8,
   "id": "cc7fde15",
   "metadata": {},
   "outputs": [],
   "source": [
    "#x"
   ]
  },
  {
   "cell_type": "code",
   "execution_count": 9,
   "id": "cb18449c",
   "metadata": {},
   "outputs": [],
   "source": [
    "from IPython.display import clear_output\n",
    "\n",
    "def display_board(board):\n",
    "    clear_output()\n",
    "   # print('\\n'*100) for clear output in IDE\n",
    "    print(' '+' '+' '+'|'+' '+' '+' '+'|'+' '+' '+' ')\n",
    "    print(' '+board[7]+' '+'|'+' '+board[8]+' '+'|'+' '+board[9]+' ')\n",
    "    print(' '+' '+' '+'|'+' '+' '+' '+'|'+' '+' '+' ')\n",
    "    print('-----------')\n",
    "    print(' '+' '+' '+'|'+' '+' '+' '+'|'+' '+' '+' ')\n",
    "    print(' '+board[4]+' '+'|'+' '+board[5]+' '+'|'+' '+board[6]+' ')\n",
    "    print(' '+' '+' '+'|'+' '+' '+' '+'|'+' '+' '+' ')\n",
    "    print('-----------')\n",
    "    print(' '+' '+' '+'|'+' '+' '+' '+'|'+' '+' '+' ')\n",
    "    print(' '+board[1]+' '+'|'+' '+board[2]+' '+'|'+' '+board[3]+' ')\n",
    "    print(' '+' '+' '+'|'+' '+' '+' '+'|'+' '+' '+' ')"
   ]
  },
  {
   "cell_type": "code",
   "execution_count": 10,
   "id": "3a4b4d25",
   "metadata": {},
   "outputs": [
    {
     "name": "stdout",
     "output_type": "stream",
     "text": [
      "   |   |   \n",
      " X | O | X \n",
      "   |   |   \n",
      "-----------\n",
      "   |   |   \n",
      " O | X | O \n",
      "   |   |   \n",
      "-----------\n",
      "   |   |   \n",
      " X | O | X \n",
      "   |   |   \n"
     ]
    }
   ],
   "source": [
    "test_board = ['#','X','O','X','O','X','O','X','O','X']\n",
    "display_board(test_board)"
   ]
  },
  {
   "cell_type": "code",
   "execution_count": 11,
   "id": "324adbe5",
   "metadata": {},
   "outputs": [],
   "source": [
    "def player_input():\n",
    "    player1_input='wrong'\n",
    "    while player1_input not in ['X','O']:\n",
    "        player1_input=input(\"Enter input for player ('X' or 'O'): \")\n",
    "        if player1_input not in ['X','O']:\n",
    "            print(\"Invalid input. Please choose 'X' or 'O'\")\n",
    "        if player1_input=='X':\n",
    "            player2_input='O'\n",
    "        else:\n",
    "            player2_input='X'\n",
    "    return [player1_input,player2_input]"
   ]
  },
  {
   "cell_type": "code",
   "execution_count": 12,
   "id": "7b51c658",
   "metadata": {},
   "outputs": [],
   "source": [
    "#player_input()"
   ]
  },
  {
   "cell_type": "code",
   "execution_count": 13,
   "id": "dfc59f7e",
   "metadata": {},
   "outputs": [],
   "source": [
    "def place_marker(board, marker, position):\n",
    "    board[position]=marker\n",
    "    return board"
   ]
  },
  {
   "cell_type": "code",
   "execution_count": 14,
   "id": "56f7ccf3",
   "metadata": {},
   "outputs": [
    {
     "name": "stdout",
     "output_type": "stream",
     "text": [
      "   |   |   \n",
      " X | $ | X \n",
      "   |   |   \n",
      "-----------\n",
      "   |   |   \n",
      " O | X | O \n",
      "   |   |   \n",
      "-----------\n",
      "   |   |   \n",
      " X | O | X \n",
      "   |   |   \n"
     ]
    }
   ],
   "source": [
    "test_board = ['#','X','O','X','O','X','O','X','O','X']\n",
    "place_marker(test_board,'$',8)\n",
    "display_board(test_board)"
   ]
  },
  {
   "cell_type": "code",
   "execution_count": 15,
   "id": "2395aa17",
   "metadata": {},
   "outputs": [],
   "source": [
    "def win_check(board, mark):\n",
    "    for i in [1,4,7]:\n",
    "        if board[i]==board[i+1]==board[i+2]==mark:\n",
    "            return (f\"{mark} has won\")\n",
    "    for i in range(1,4):\n",
    "        if board[i]==board[i+3]==board[i+6]==mark:\n",
    "            return (f\"{mark} has won\")\n",
    "    for i in [1]:\n",
    "        if board[i]==board[i+4]==board[i+8]==mark:\n",
    "            return (f\"{mark} has won\")\n",
    "    for i in [3]:\n",
    "        if board[i]==board[i+2]==board[i+4]==mark:\n",
    "            return (f\"{mark} has won\")"
   ]
  },
  {
   "cell_type": "code",
   "execution_count": 16,
   "id": "336aa828",
   "metadata": {},
   "outputs": [],
   "source": [
    "win_check(test_board,'O')"
   ]
  },
  {
   "cell_type": "code",
   "execution_count": 17,
   "id": "17119993",
   "metadata": {},
   "outputs": [],
   "source": [
    "import random\n",
    "\n",
    "def choose_first():\n",
    "    return random.randint(1,2)"
   ]
  },
  {
   "cell_type": "code",
   "execution_count": 18,
   "id": "e8ac77fa",
   "metadata": {},
   "outputs": [],
   "source": [
    "#choose_first()"
   ]
  },
  {
   "cell_type": "code",
   "execution_count": 19,
   "id": "46a8260d",
   "metadata": {},
   "outputs": [],
   "source": [
    "def space_check(board, position):\n",
    "    if board[position]==' ':\n",
    "        return True\n",
    "    else:\n",
    "        return False"
   ]
  },
  {
   "cell_type": "code",
   "execution_count": 20,
   "id": "b66af747",
   "metadata": {},
   "outputs": [],
   "source": [
    "def full_board_check(board):\n",
    "    if ' ' in board:\n",
    "        return False\n",
    "    else:\n",
    "        return True"
   ]
  },
  {
   "cell_type": "code",
   "execution_count": 21,
   "id": "8dbd46c2",
   "metadata": {},
   "outputs": [],
   "source": [
    "def player_choice(board):\n",
    "    next_pos=10\n",
    "    while next_pos not in range(1,10):\n",
    "        next_pos=int(input(\"Enter player's next position (as a number 1-9):\"))\n",
    "        if next_pos not in range(1,10):\n",
    "            print(\"invalid input. Please choose next position from 1-9 \")\n",
    "    if space_check(board, next_pos):\n",
    "        return next_pos"
   ]
  },
  {
   "cell_type": "code",
   "execution_count": 22,
   "id": "d4c0a452",
   "metadata": {},
   "outputs": [],
   "source": [
    "#player_choice(board)"
   ]
  },
  {
   "cell_type": "code",
   "execution_count": 23,
   "id": "ccf34d32",
   "metadata": {},
   "outputs": [],
   "source": [
    "def replay():\n",
    "    play=' '\n",
    "    while play not in ['Yes','No']:\n",
    "        play=input('Do you want to play again (Yes or No)?: ')\n",
    "        if play not in ['Yes','No']:\n",
    "            print(\"Invalid input. Please choose either yes or no\")\n",
    "    if play=='Yes':\n",
    "        return True"
   ]
  },
  {
   "cell_type": "code",
   "execution_count": 24,
   "id": "064ee24b",
   "metadata": {},
   "outputs": [
    {
     "name": "stdout",
     "output_type": "stream",
     "text": [
      "   |   |   \n",
      "   | O |   \n",
      "   |   |   \n",
      "-----------\n",
      "   |   |   \n",
      "   | O | X \n",
      "   |   |   \n",
      "-----------\n",
      "   |   |   \n",
      " X | O | X \n",
      "   |   |   \n",
      "Player 2 won\n",
      "Do you want to play again (Yes or No)?: No\n"
     ]
    }
   ],
   "source": [
    "count=True  \n",
    "while count:\n",
    "    print('Welcome to Tic Tac Toe!')\n",
    "    board=['#',' ',' ',' ',' ',' ',' ',' ',' ',' ']\n",
    "    display_board(board)\n",
    "    if choose_first()==1:\n",
    "        input_list=player_input()\n",
    "        player1_input=input_list[0]\n",
    "        player2_input=input_list[1]\n",
    "    else:\n",
    "        input_list=player_input()\n",
    "        player1_input=input_list[1]\n",
    "        player2_input=input_list[0]\n",
    "    while not full_board_check(board):\n",
    "        flag=True\n",
    "        #player1\n",
    "        position=player_choice(board)\n",
    "        while position is None:\n",
    "            print(\"The choosen position is nonempty. Choose another postion\")\n",
    "            position=player_choice(board)\n",
    "        place_marker(board, player1_input, position)\n",
    "        display_board(board)\n",
    "        if win_check(board, player1_input) is not None:\n",
    "            flag=False\n",
    "            print(\"Player 1 won\")\n",
    "            if replay():\n",
    "                break\n",
    "            else:\n",
    "                count=False\n",
    "                break\n",
    "        #player2\n",
    "        if not full_board_check(board):\n",
    "            position=player_choice(board)\n",
    "            while position is None:\n",
    "                print(\"The choosen position is nonempty. Choose another postion\")\n",
    "                position=player_choice(board)\n",
    "            place_marker(board, player2_input, position)\n",
    "            display_board(board)\n",
    "            if win_check(board, player2_input) is not None:\n",
    "                print(\"Player 2 won\")\n",
    "                flag=False\n",
    "                if replay():\n",
    "                    break\n",
    "                else:\n",
    "                    count=False\n",
    "                    break\n",
    "    if flag is not False:\n",
    "        print(\"No one won\")\n",
    "        if replay():\n",
    "            continue\n",
    "        else:\n",
    "            count=False"
   ]
  },
  {
   "cell_type": "code",
   "execution_count": null,
   "id": "7b6f88e0",
   "metadata": {},
   "outputs": [],
   "source": []
  },
  {
   "cell_type": "code",
   "execution_count": null,
   "id": "9c2049b9",
   "metadata": {},
   "outputs": [],
   "source": []
  },
  {
   "cell_type": "code",
   "execution_count": null,
   "id": "68cfcfa3",
   "metadata": {},
   "outputs": [],
   "source": []
  },
  {
   "cell_type": "code",
   "execution_count": null,
   "id": "135fe1df",
   "metadata": {},
   "outputs": [],
   "source": []
  }
 ],
 "metadata": {
  "kernelspec": {
   "display_name": "Python 3 (ipykernel)",
   "language": "python",
   "name": "python3"
  },
  "language_info": {
   "codemirror_mode": {
    "name": "ipython",
    "version": 3
   },
   "file_extension": ".py",
   "mimetype": "text/x-python",
   "name": "python",
   "nbconvert_exporter": "python",
   "pygments_lexer": "ipython3",
   "version": "3.9.12"
  }
 },
 "nbformat": 4,
 "nbformat_minor": 5
}
